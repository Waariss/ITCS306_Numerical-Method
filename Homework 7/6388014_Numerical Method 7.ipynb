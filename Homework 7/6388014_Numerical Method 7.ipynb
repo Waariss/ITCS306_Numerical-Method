{
 "cells": [
  {
   "cell_type": "code",
   "execution_count": 14,
   "id": "6c2a781e",
   "metadata": {},
   "outputs": [
    {
     "name": "stdout",
     "output_type": "stream",
     "text": [
      "Ab = \n",
      "[[  4.  -2.   1.   8.]\n",
      " [  1.   1.   1. -13.]\n",
      " [  9.   3.   1.   3.]]\n",
      "GAb = \n",
      "[[  1.    -0.5    0.25   2.  ]\n",
      " [  0.     1.     0.5  -10.  ]\n",
      " [ -0.    -0.     1.   -12.  ]]\n"
     ]
    }
   ],
   "source": [
    "#q1\n",
    "import numpy as np\n",
    "A = np.array([[4.0,-2.0,1.0],[1.0,1.0,1.0],[9.0,3.0,1.0]])\n",
    "b = np.array([[8.0],[-13.0],[3.0]])\n",
    "def fwd_gauss(Ab):\n",
    "    MAb = Ab.copy()\n",
    "    [nr_Ab,nc_Ab] = Ab.shape\n",
    "    for r in range(0,nr_Ab):\n",
    "        #normalizing row r\n",
    "        k = MAb[r,r]\n",
    "        MAb[r,:] = (1/k) * MAb[r,:]\n",
    "        # clear column r\n",
    "        if(r != nr_Ab-1):\n",
    "            for i in range(r+1,nr_Ab):\n",
    "                row_factor = 1/MAb[i,r]\n",
    "                MAb[i,:] = (row_factor) * MAb[i,:]\n",
    "                MAb[i,:] = MAb[i,:] - MAb[r,:]\n",
    "    return MAb\n",
    "Ab = np.append(A,b,axis=1)\n",
    "print('Ab = ')\n",
    "print(Ab)\n",
    "GAb = fwd_gauss(Ab)\n",
    "print('GAb = ')\n",
    "print(GAb)"
   ]
  },
  {
   "cell_type": "code",
   "execution_count": 15,
   "id": "895f68f6",
   "metadata": {
    "scrolled": true
   },
   "outputs": [
    {
     "name": "stdout",
     "output_type": "stream",
     "text": [
      "Inverse of a Matrix\n",
      "0.2 0.2 0.0 \n",
      "-0.2 0.3 1.0 \n",
      "0.2 -0.3 -0.0 \n"
     ]
    }
   ],
   "source": [
    "#q2\n",
    "import numpy as np\n",
    "M = [[3.0, 0.0, 2.0], [2.0, 0.0, -2.0], [0.0, 1.0, 1.0]]\n",
    "def inverse(a):\n",
    "    n = len(a) \n",
    "    P = [[0.0 for i in range(len(a))] for j in range(len(a))]\n",
    "    for i in range(3):\n",
    "        for j in range(3):\n",
    "            P[j][j] = 1.01\n",
    "    for i in range(len(a)):\n",
    "        a[i].extend(P[i])\n",
    "    for k in range(n):\n",
    "        if abs(a[k][k]) < 1.0e-12:\n",
    "            for i in range(k+1, n):\n",
    "                if abs(a[i][k]) > abs(a[k][k]):\n",
    "                    for j in range(k, 2*n):\n",
    "                        a[k][j], a[i][j] = a[i][j], a[k][j] #swapping of rows\n",
    "                    break\n",
    "        pivot = a[k][k] #defining the pivot\n",
    "        if pivot == 0: #checking if matrix is invertible\n",
    "            print(\"This matrix is not invertible.\")\n",
    "            return\n",
    "        else:\n",
    "            for j in range(k, 2*n): #index of columns of the pivot row\n",
    "                a[k][j] /= pivot\n",
    "            for i in range(n): #index the subtracted rows\n",
    "                if i == k or a[i][k] == 0: continue\n",
    "                factor = a[i][k]\n",
    "                for j in range(k, 2*n): #index the columns for subtraction\n",
    "                    a[i][j] -= factor * a[k][j]\n",
    "    for i in range(len(a)): \n",
    "        for j in range(n, len(a[0])):\n",
    "            round_off = np.round_(a[i][j],decimals=1)\n",
    "            print(round_off, end = \" \")\n",
    "        print()\n",
    "print(\"Inverse of a Matrix\")\n",
    "inverse(M)"
   ]
  },
  {
   "cell_type": "code",
   "execution_count": null,
   "id": "8dc9c0e4",
   "metadata": {},
   "outputs": [],
   "source": []
  }
 ],
 "metadata": {
  "kernelspec": {
   "display_name": "Python 3",
   "language": "python",
   "name": "python3"
  },
  "language_info": {
   "codemirror_mode": {
    "name": "ipython",
    "version": 3
   },
   "file_extension": ".py",
   "mimetype": "text/x-python",
   "name": "python",
   "nbconvert_exporter": "python",
   "pygments_lexer": "ipython3",
   "version": "3.8.8"
  }
 },
 "nbformat": 4,
 "nbformat_minor": 5
}
