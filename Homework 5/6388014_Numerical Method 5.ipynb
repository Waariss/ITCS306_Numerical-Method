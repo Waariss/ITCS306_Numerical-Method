{
 "cells": [
  {
   "cell_type": "markdown",
   "id": "ac4310cd",
   "metadata": {},
   "source": [
    "# Waris Damkham 6388014 sec: 1"
   ]
  },
  {
   "cell_type": "code",
   "execution_count": 209,
   "id": "d5e6e3da",
   "metadata": {},
   "outputs": [
    {
     "name": "stdout",
     "output_type": "stream",
     "text": [
      "MaxA = 200.000\n"
     ]
    }
   ],
   "source": [
    "#5.1\n",
    "def getMaxDP(A,n):\n",
    "    if (n == 1):\n",
    "        return A[0]\n",
    "    elif(n == 2):\n",
    "        if(A[0] > A[1]):\n",
    "            return A[0]\n",
    "        else:\n",
    "            return A[1]\n",
    "    else:\n",
    "        mid = n//2 \n",
    "        A_left = A[:mid].copy()\n",
    "        A_right = A[mid:].copy()\n",
    "        max_left = getMaxDP(A_left, len(A_left))\n",
    "        max_right = getMaxDP(A_right, len(A_right))\n",
    "        if (max_left > max_right):\n",
    "            return max_left\n",
    "        else:\n",
    "            return max_right\n",
    "A = [1, 4, 45, 6, -500, 100, 200]\n",
    "n = len(A)\n",
    "maxA = getMaxDP(A,n)\n",
    "print('MaxA = %3.3f' %(maxA))"
   ]
  },
  {
   "cell_type": "code",
   "execution_count": 210,
   "id": "65ac01d6",
   "metadata": {},
   "outputs": [],
   "source": [
    "#5.4\n",
    "import math\n",
    "import numpy as np\n",
    "import matplotlib.pyplot as plt\n",
    "# Golden Section search\n",
    "def golden_min(f,xl,xu):\n",
    "    eps = 0.005\n",
    "    phi = (1+np.sqrt(5))/2\n",
    "    d = (phi - 1)*(xu - xl)\n",
    "    x1 = xl + d\n",
    "    x2 = xu - d\n",
    "#     print('x1 = %4.5f\\tf(x1) = %4.5f\\tx2 = %4.5f\\tf(x2) = %4.5f' %(x1,f(x1),x2,f(x2)))\n",
    "    xmin = xl\n",
    "    if (f(x1) < f(x2)):\n",
    "        xl = x2\n",
    "        xmin = x1\n",
    "    else:\n",
    "        xu = x1\n",
    "        xmin = x2\n",
    "#     print('xmin = %4.4f' %(xmin))\n",
    "    epa = (2 - phi)*np.abs((xu - xl)/xmin)*100\n",
    "    if (epa < eps):\n",
    "        return xmin\n",
    "    else:\n",
    "        return golden_min(f,xl,xu)\n",
    "def golden_max(f,xl,xu):\n",
    "    eps = 0.005\n",
    "    phi = (1+np.sqrt(5))/2\n",
    "    d = (phi - 1)*(xu - xl)\n",
    "    x1 = xl + d\n",
    "    x2 = xu - d\n",
    "#     print('x1 = %4.5f\\tf(x1) = %4.5f\\tx2 = %4.5f\\tf(x2) = %4.5f' %(x1,f(x1),x2,f(x2)))\n",
    "    xmin = xl\n",
    "    if (f(x1) < f(x2)):\n",
    "        xu = x1\n",
    "        xmax = x2\n",
    "    else:\n",
    "        xl = x2\n",
    "        xmax = x1\n",
    "#     print('xmax = %4.4f' %(xmax))\n",
    "    epa = (2 - phi)*np.abs((xu - xl)/xmax)*100\n",
    "    if (epa < eps):\n",
    "        return xmax\n",
    "    else:\n",
    "        return golden_max(f,xl,xu)"
   ]
  },
  {
   "cell_type": "code",
   "execution_count": 211,
   "id": "17360b44",
   "metadata": {},
   "outputs": [
    {
     "name": "stdout",
     "output_type": "stream",
     "text": [
      "Minimum\n",
      "-3.999754861905949\n",
      "Maximun\n",
      "0.367011307228911\n"
     ]
    }
   ],
   "source": [
    "def f(x):\n",
    "    return (x**3) - (6 * (x**2)) + (4*x) + 12\n",
    "xl = -4\n",
    "xu = 2\n",
    "xmin = golden_min(f,xl,xu)\n",
    "print(\"Minimum\")\n",
    "print((xmin))\n",
    "xmax = golden_max(f,xl,xu)\n",
    "print(\"Maximun\")\n",
    "print(xmax)"
   ]
  },
  {
   "cell_type": "code",
   "execution_count": 212,
   "id": "52432ce3",
   "metadata": {},
   "outputs": [
    {
     "name": "stdout",
     "output_type": "stream",
     "text": [
      "Minimum\n",
      "1.9998989975506263\n",
      "Maximun\n",
      "-0.6103073797916067\n"
     ]
    }
   ],
   "source": [
    "def f2(x):\n",
    "    return (x**3) - (4 * (x**2)) - (6*x) + 5\n",
    "xl = -2\n",
    "xu = 2\n",
    "xmin = golden_min(f2,xl,xu)\n",
    "print(\"Minimum\")\n",
    "print(xmin)\n",
    "xmax = golden_max(f2,xl,xu)\n",
    "print(\"Maximun\")\n",
    "print(xmax)"
   ]
  },
  {
   "cell_type": "code",
   "execution_count": 213,
   "id": "d0e7ac7a",
   "metadata": {},
   "outputs": [],
   "source": [
    "#5.5\n",
    "import math\n",
    "import numpy as np\n",
    "import matplotlib.pyplot as plt\n",
    "def opt_parabola(f,x1,x2,x3):\n",
    "   a1 = (x2-x1)*(x2-x1)*(f(x2)-f(x3))\n",
    "   a2 = (x2-x3)*(x2-x3)*(f(x2)-f(x1))\n",
    "   b1 = (x2-x1)*(f(x2)-f(x3))\n",
    "   b2 = (x2-x3)*(f(x2)-f(x1))\n",
    "   c = (a1-a2)/(b1-b2)\n",
    "   x4 = x2-(0.5 * c)\n",
    "   return x4\n",
    "def min_parabolic(f,x1,x2,x3):\n",
    "    eps = 0.005\n",
    "    xopt_prev = x2\n",
    "    x4 = opt_parabola(f,x1,x2,x3)\n",
    "    if (x4 > x2): \n",
    "        if (f(x4) < f(x2)):\n",
    "            xmin = x4\n",
    "            x1 = x2\n",
    "            x2 = x4\n",
    "        else:\n",
    "            xmin = x2\n",
    "            x3 = x4\n",
    "    else: \n",
    "        if (f(x4) < f(x2)):\n",
    "            xmin = x4\n",
    "            x3 = x2\n",
    "            x2 = x4\n",
    "        else:\n",
    "            xmin = x2\n",
    "            x1 = x4\n",
    "            x4 = x2\n",
    "    xopt = xmin\n",
    "    epa = np.abs((xopt-xopt_prev)/xopt)*100\n",
    "    if (epa < eps):\n",
    "        return xopt\n",
    "    else:\n",
    "        return min_parabolic(f,x1,x2,x3)\n",
    "def max_parabolic(f,x1,x2,x3):\n",
    "    eps = 0.005\n",
    "    xopt_prev = x2\n",
    "    x4 = opt_parabola(f,x1,x2,x3)\n",
    "    if (x4 > x2): \n",
    "        if (f(x4) < f(x2)):\n",
    "            xmax = x4\n",
    "            x1 = x2\n",
    "            x2 = x4\n",
    "        else:\n",
    "            xmax = x2\n",
    "            x3 = x4\n",
    "    else: \n",
    "        if (f(x4) > f(x2)):\n",
    "            xmax = x4\n",
    "            x3 = x2\n",
    "            x2 = x4\n",
    "        else:\n",
    "            xmax = x2\n",
    "            x1 = x4\n",
    "    xopt = xmax\n",
    "    epa = np.abs((xopt-xopt_prev)/xopt)*100\n",
    "    if (epa < eps):\n",
    "        return xopt\n",
    "    else:\n",
    "        return max_parabolic(f,x1,x2,x3)"
   ]
  },
  {
   "cell_type": "code",
   "execution_count": 214,
   "id": "f15374f2",
   "metadata": {},
   "outputs": [
    {
     "name": "stdout",
     "output_type": "stream",
     "text": [
      "Minimum\n",
      "3.6330992660282373\n",
      "Maximun\n",
      "8\n"
     ]
    }
   ],
   "source": [
    "def f1(x):\n",
    "    return (x**3) - (6 * (x**2)) + (4*x) + 12\n",
    "x1 = 5\n",
    "x2 = 8\n",
    "x3 = 10\n",
    "eps = 0.005\n",
    "xmin = min_parabolic(f1,x1,x2,x3)\n",
    "print(\"Minimum\")\n",
    "print(xmin)\n",
    "xmax = max_parabolic(f1,x1,x2,x3)\n",
    "print(\"Maximun\")\n",
    "print(xmax)"
   ]
  },
  {
   "cell_type": "code",
   "execution_count": 215,
   "id": "0e67daf6",
   "metadata": {},
   "outputs": [
    {
     "name": "stdout",
     "output_type": "stream",
     "text": [
      "Minimum\n",
      "3\n",
      "Maximun\n",
      "3.5517241379310343\n"
     ]
    }
   ],
   "source": [
    "def f2(x):\n",
    "    return (x**3) - (4 * (x**2)) - (6*x) + 5\n",
    "x1 = 1\n",
    "x2 = 3\n",
    "x3 = 5\n",
    "eps = 0.005\n",
    "xmin = min_parabolic(f2,x1,x2,x3)\n",
    "print(\"Minimum\")\n",
    "print(xmin)\n",
    "xmax = max_parabolic(f2,x1,x2,x3)\n",
    "print(\"Maximun\")\n",
    "print(xmax)"
   ]
  }
 ],
 "metadata": {
  "kernelspec": {
   "display_name": "Python 3",
   "language": "python",
   "name": "python3"
  },
  "language_info": {
   "codemirror_mode": {
    "name": "ipython",
    "version": 3
   },
   "file_extension": ".py",
   "mimetype": "text/x-python",
   "name": "python",
   "nbconvert_exporter": "python",
   "pygments_lexer": "ipython3",
   "version": "3.8.8"
  }
 },
 "nbformat": 4,
 "nbformat_minor": 5
}
