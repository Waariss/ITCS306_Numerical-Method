{
 "cells": [
  {
   "cell_type": "code",
   "execution_count": 6,
   "id": "2bf85ffc",
   "metadata": {},
   "outputs": [
    {
     "name": "stdout",
     "output_type": "stream",
     "text": [
      "Enter the row Size Of the Matrix:3\n",
      "Enter the columns Size Of the Matrix:3\n",
      "Enter the Matrix Element:\n",
      "1 0 0\n",
      "0 1 0\n",
      "0 0 1\n",
      "Given Matrix is a square Matrix.\n",
      "Given Matrix is a diagonal Matrix.\n"
     ]
    }
   ],
   "source": [
    "#Q1\n",
    "row_size=int(input(\"Enter the row Size Of the Matrix:\"))\n",
    "col_size=int(input(\"Enter the columns Size Of the Matrix:\"))\n",
    "matrix=[]\n",
    "print(\"Enter the Matrix Element:\")\n",
    "for i in range(row_size):\n",
    "    matrix.append([int(j) for j in input().split()])\n",
    "point=0\n",
    "for i in range(len(matrix)):\n",
    "    for j in range(len(matrix[0])):\n",
    "        if(i==j and matrix[i][j] != 0):\n",
    "            point = 10\n",
    "            break\n",
    "        elif(i!=j and matrix[i][j]!=0):\n",
    "            point=1\n",
    "            break\n",
    "        else:\n",
    "            point = 10\n",
    "            break\n",
    "if(row_size != col_size):  \n",
    "    print(\"Given Matrix is not a square Matrix.\");\n",
    "elif(row_size == col_size):  \n",
    "    print(\"Given Matrix is a square Matrix.\");\n",
    "if(point==1):\n",
    "    print(\"Given Matrix is not a diagonal Matrix.\")\n",
    "elif(point==10):\n",
    "    print(\"Given Matrix is a diagonal Matrix.\")"
   ]
  },
  {
   "cell_type": "code",
   "execution_count": 4,
   "id": "1e40b022",
   "metadata": {},
   "outputs": [
    {
     "name": "stdout",
     "output_type": "stream",
     "text": [
      "Enter the row Size Of the Matrix:3\n",
      "Enter the columns Size Of the Matrix:3\n",
      "Enter the Matrix Element:\n",
      "1 1 1\n",
      "1 1 1\n",
      "1 1 1\n",
      "Given Matrix is a square Matrix.\n",
      "Given Matrix is a skew-symmetric Matrix.\n"
     ]
    }
   ],
   "source": [
    "#Q2\n",
    "row_size=int(input(\"Enter the row Size Of the Matrix:\"))\n",
    "col_size=int(input(\"Enter the columns Size Of the Matrix:\"))\n",
    "matrix=[]\n",
    "print(\"Enter the Matrix Element:\")\n",
    "for i in range(row_size):\n",
    "    matrix.append([int(j) for j in input().split()])\n",
    "if(row_size!=col_size):\n",
    "    print(\"Given Matrix is not a Square Matrix.\")\n",
    "else:\n",
    "    print(\"Given Matrix is a square Matrix.\")\n",
    "    tran_matrix = [[0 for i in range(col_size)] for i in range(row_size)]\n",
    "    for i in range(0, row_size):\n",
    "        for j in range(0, col_size):\n",
    "            tran_matrix[i][j] = matrix[j][i]\n",
    "point=0\n",
    "for i in range(0, row_size):\n",
    "    for j in range(0, col_size):\n",
    "        if(matrix[i][j] != tran_matrix[i][j]):\n",
    "            point=1\n",
    "            break\n",
    "if(point==1):\n",
    "    print(\"Given Matrix is not a symmetric Matrix.\")\n",
    "elif(point==0 and row_size==col_size):\n",
    "    print(\"Given Matrix is a skew-symmetric Matrix.\")"
   ]
  },
  {
   "cell_type": "code",
   "execution_count": 9,
   "id": "c36f7c82",
   "metadata": {},
   "outputs": [
    {
     "name": "stdout",
     "output_type": "stream",
     "text": [
      "Enter the row Size Of the Matrix:3\n",
      "Enter the columns Size Of the Matrix:3\n",
      "Enter the Matrix Element:\n",
      "3 2 -4\n",
      "-2 5 2\n",
      "4 -2 1\n",
      "[[0.08108108108108109, 0.05405405405405407, 0.2162162162162162], [0.09009009009009013, 0.17117117117117117, 0.01801801801801802], [-0.14414414414414417, 0.1261261261261262, 0.17117117117117117]]\n"
     ]
    }
   ],
   "source": [
    "#Q3\n",
    "import numpy as np\n",
    "row_size=int(input(\"Enter the row Size Of the Matrix:\"))\n",
    "col_size=int(input(\"Enter the columns Size Of the Matrix:\"))\n",
    "A=[]\n",
    "print(\"Enter the Matrix Element:\")\n",
    "for i in range(row_size):\n",
    "    A.append([int(j) for j in input().split()])\n",
    "# A = [[ 3, 2, -4],[ -2, 5, 2],[ 4, -2, 1]]\n",
    "def findtransposeM(m):\n",
    "    transpose = []\n",
    "    for i in range(len(m)):\n",
    "        r = []\n",
    "        for j in range(len(m[0])):\n",
    "            r.append(m[j][i])\n",
    "        transpose.append(r)\n",
    "    return transpose\n",
    "def findminor(m,r,c):\n",
    "    return [row[:c] + row[c+1:] for row in (m[:r]+m[r+1:])]\n",
    "def finddeterminant(m):\n",
    "    det = np.linalg.det(m)\n",
    "    return det\n",
    "def findinverse(m):\n",
    "    det = finddeterminant(m)\n",
    "    if len(m) == 2:\n",
    "        return [[m[1][1]/det, -1*m[0][1]/det],\n",
    "                [-1*m[1][0]/det, m[0][0]/det]]\n",
    "    cofactor = []\n",
    "    for r in range(len(m)):\n",
    "        cofactorlaw = []\n",
    "        for c in range(len(m)):\n",
    "            minor = findminor(m,r,c)\n",
    "            cofactorlaw.append(((-1)**(r+c)) * finddeterminant(minor))\n",
    "        cofactor.append(cofactorlaw)\n",
    "    cofactor = findtransposeM(cofactor)\n",
    "    for r in range(len(cofactor)):\n",
    "        for c in range(len(cofactor)):\n",
    "            cofactor[r][c] = cofactor[r][c]/det \n",
    "    return cofactor\n",
    "inve=findinverse(A)\n",
    "print(inve)"
   ]
  },
  {
   "cell_type": "code",
   "execution_count": null,
   "id": "b41de9ea",
   "metadata": {},
   "outputs": [],
   "source": []
  }
 ],
 "metadata": {
  "kernelspec": {
   "display_name": "Python 3",
   "language": "python",
   "name": "python3"
  },
  "language_info": {
   "codemirror_mode": {
    "name": "ipython",
    "version": 3
   },
   "file_extension": ".py",
   "mimetype": "text/x-python",
   "name": "python",
   "nbconvert_exporter": "python",
   "pygments_lexer": "ipython3",
   "version": "3.8.8"
  }
 },
 "nbformat": 4,
 "nbformat_minor": 5
}
